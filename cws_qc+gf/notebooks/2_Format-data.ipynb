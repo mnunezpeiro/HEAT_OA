{
 "cells": [
  {
   "cell_type": "markdown",
   "metadata": {},
   "source": [
    "<font color='IndianRed'>Script for processing and formatting CWS data after QC and GF procedures. Developed by Miguel Núñez-Peiró. Please check: https://github.com/mnunezpeiro/HEAT/tree/main/cws_qc%2Bgf </font>"
   ]
  },
  {
   "cell_type": "code",
   "execution_count": null,
   "metadata": {},
   "outputs": [],
   "source": [
    "# Import necessary libraries\n",
    "\n",
    "import sys\n",
    "import os\n",
    "import pandas as pd\n",
    "import datetime as dt"
   ]
  },
  {
   "cell_type": "code",
   "execution_count": null,
   "metadata": {},
   "outputs": [],
   "source": [
    "# Define the function to load the data\n",
    "def load_data(file_path):\n",
    "    \"\"\"\n",
    "    Load the csv data from the file path provided\n",
    "    Args:\n",
    "    file_path: str: The path to the file to be loaded\n",
    "    Returns:\n",
    "    data: DataFrame: The data loaded from the file\n",
    "    \"\"\"\n",
    "    # Load the data\n",
    "    data = pd.read_csv(file_path)\n",
    "    return data\n",
    "\n",
    "# Define the function to ask the user for the file path\n",
    "def get_file_path():\n",
    "    \"\"\"\n",
    "    Ask the user for the file path to the data file\n",
    "    Returns:\n",
    "    file_path: str: The file path to the data file\n",
    "    \"\"\"\n",
    "    # Ask the user for the file path\n",
    "    file_path = input(\"Please enter the file path to the data file: \")\n",
    "    return file_path"
   ]
  },
  {
   "cell_type": "code",
   "execution_count": null,
   "metadata": {},
   "outputs": [],
   "source": [
    "get_file_path()"
   ]
  }
 ],
 "metadata": {
  "language_info": {
   "name": "python"
  }
 },
 "nbformat": 4,
 "nbformat_minor": 2
}
